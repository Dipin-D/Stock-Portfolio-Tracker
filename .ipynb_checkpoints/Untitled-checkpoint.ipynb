{
 "cells": [
  {
   "cell_type": "code",
   "execution_count": 1,
   "id": "801f80f0-d5d7-46ac-89c0-744b01b6b75d",
   "metadata": {},
   "outputs": [],
   "source": [
    "import yfinance as yf\n",
    "import backtrader as bt"
   ]
  },
  {
   "cell_type": "code",
   "execution_count": 2,
   "id": "e26e03cc-528b-49eb-8c7b-e0e4e9c50467",
   "metadata": {
    "jupyter": {
     "source_hidden": true
    }
   },
   "outputs": [
    {
     "name": "stderr",
     "output_type": "stream",
     "text": [
      "[*********************100%***********************]  1 of 1 completed\n"
     ]
    }
   ],
   "source": [
    "data = yf.download(\"SPY\", start=\"1993-01-01\", end=\"2005-12-31\")"
   ]
  },
  {
   "cell_type": "code",
   "execution_count": 3,
   "id": "e558e83e-6d8c-4051-8581-4263c7895889",
   "metadata": {},
   "outputs": [
    {
     "data": {
      "text/html": [
       "<div>\n",
       "<style scoped>\n",
       "    .dataframe tbody tr th:only-of-type {\n",
       "        vertical-align: middle;\n",
       "    }\n",
       "\n",
       "    .dataframe tbody tr th {\n",
       "        vertical-align: top;\n",
       "    }\n",
       "\n",
       "    .dataframe thead tr th {\n",
       "        text-align: left;\n",
       "    }\n",
       "\n",
       "    .dataframe thead tr:last-of-type th {\n",
       "        text-align: right;\n",
       "    }\n",
       "</style>\n",
       "<table border=\"1\" class=\"dataframe\">\n",
       "  <thead>\n",
       "    <tr>\n",
       "      <th>Price</th>\n",
       "      <th>Adj Close</th>\n",
       "      <th>Close</th>\n",
       "      <th>High</th>\n",
       "      <th>Low</th>\n",
       "      <th>Open</th>\n",
       "      <th>Volume</th>\n",
       "    </tr>\n",
       "    <tr>\n",
       "      <th>Ticker</th>\n",
       "      <th>SPY</th>\n",
       "      <th>SPY</th>\n",
       "      <th>SPY</th>\n",
       "      <th>SPY</th>\n",
       "      <th>SPY</th>\n",
       "      <th>SPY</th>\n",
       "    </tr>\n",
       "    <tr>\n",
       "      <th>Date</th>\n",
       "      <th></th>\n",
       "      <th></th>\n",
       "      <th></th>\n",
       "      <th></th>\n",
       "      <th></th>\n",
       "      <th></th>\n",
       "    </tr>\n",
       "  </thead>\n",
       "  <tbody>\n",
       "    <tr>\n",
       "      <th>1993-01-29 00:00:00+00:00</th>\n",
       "      <td>24.608625</td>\n",
       "      <td>43.93750</td>\n",
       "      <td>43.96875</td>\n",
       "      <td>43.75000</td>\n",
       "      <td>43.96875</td>\n",
       "      <td>1003200</td>\n",
       "    </tr>\n",
       "    <tr>\n",
       "      <th>1993-02-01 00:00:00+00:00</th>\n",
       "      <td>24.783638</td>\n",
       "      <td>44.25000</td>\n",
       "      <td>44.25000</td>\n",
       "      <td>43.96875</td>\n",
       "      <td>43.96875</td>\n",
       "      <td>480500</td>\n",
       "    </tr>\n",
       "    <tr>\n",
       "      <th>1993-02-02 00:00:00+00:00</th>\n",
       "      <td>24.836155</td>\n",
       "      <td>44.34375</td>\n",
       "      <td>44.37500</td>\n",
       "      <td>44.12500</td>\n",
       "      <td>44.21875</td>\n",
       "      <td>201300</td>\n",
       "    </tr>\n",
       "    <tr>\n",
       "      <th>1993-02-03 00:00:00+00:00</th>\n",
       "      <td>25.098705</td>\n",
       "      <td>44.81250</td>\n",
       "      <td>44.84375</td>\n",
       "      <td>44.37500</td>\n",
       "      <td>44.40625</td>\n",
       "      <td>529400</td>\n",
       "    </tr>\n",
       "    <tr>\n",
       "      <th>1993-02-04 00:00:00+00:00</th>\n",
       "      <td>25.203712</td>\n",
       "      <td>45.00000</td>\n",
       "      <td>45.09375</td>\n",
       "      <td>44.46875</td>\n",
       "      <td>44.96875</td>\n",
       "      <td>531500</td>\n",
       "    </tr>\n",
       "  </tbody>\n",
       "</table>\n",
       "</div>"
      ],
      "text/plain": [
       "Price                      Adj Close     Close      High       Low      Open  \\\n",
       "Ticker                           SPY       SPY       SPY       SPY       SPY   \n",
       "Date                                                                           \n",
       "1993-01-29 00:00:00+00:00  24.608625  43.93750  43.96875  43.75000  43.96875   \n",
       "1993-02-01 00:00:00+00:00  24.783638  44.25000  44.25000  43.96875  43.96875   \n",
       "1993-02-02 00:00:00+00:00  24.836155  44.34375  44.37500  44.12500  44.21875   \n",
       "1993-02-03 00:00:00+00:00  25.098705  44.81250  44.84375  44.37500  44.40625   \n",
       "1993-02-04 00:00:00+00:00  25.203712  45.00000  45.09375  44.46875  44.96875   \n",
       "\n",
       "Price                       Volume  \n",
       "Ticker                         SPY  \n",
       "Date                                \n",
       "1993-01-29 00:00:00+00:00  1003200  \n",
       "1993-02-01 00:00:00+00:00   480500  \n",
       "1993-02-02 00:00:00+00:00   201300  \n",
       "1993-02-03 00:00:00+00:00   529400  \n",
       "1993-02-04 00:00:00+00:00   531500  "
      ]
     },
     "execution_count": 3,
     "metadata": {},
     "output_type": "execute_result"
    }
   ],
   "source": [
    "data.head()"
   ]
  },
  {
   "cell_type": "code",
   "execution_count": 4,
   "id": "8d2c0e40-f1fe-40ae-9725-ae991db237e0",
   "metadata": {},
   "outputs": [],
   "source": [
    "data = data[['Open', 'High', 'Low', 'Adj Close', 'Volume']]\n"
   ]
  },
  {
   "cell_type": "code",
   "execution_count": 5,
   "id": "9254136a-248c-4d25-8484-7a6cbae3d4ba",
   "metadata": {},
   "outputs": [
    {
     "data": {
      "text/html": [
       "<div>\n",
       "<style scoped>\n",
       "    .dataframe tbody tr th:only-of-type {\n",
       "        vertical-align: middle;\n",
       "    }\n",
       "\n",
       "    .dataframe tbody tr th {\n",
       "        vertical-align: top;\n",
       "    }\n",
       "\n",
       "    .dataframe thead tr th {\n",
       "        text-align: left;\n",
       "    }\n",
       "\n",
       "    .dataframe thead tr:last-of-type th {\n",
       "        text-align: right;\n",
       "    }\n",
       "</style>\n",
       "<table border=\"1\" class=\"dataframe\">\n",
       "  <thead>\n",
       "    <tr>\n",
       "      <th>Price</th>\n",
       "      <th>Open</th>\n",
       "      <th>High</th>\n",
       "      <th>Low</th>\n",
       "      <th>Adj Close</th>\n",
       "      <th>Volume</th>\n",
       "    </tr>\n",
       "    <tr>\n",
       "      <th>Ticker</th>\n",
       "      <th>SPY</th>\n",
       "      <th>SPY</th>\n",
       "      <th>SPY</th>\n",
       "      <th>SPY</th>\n",
       "      <th>SPY</th>\n",
       "    </tr>\n",
       "    <tr>\n",
       "      <th>Date</th>\n",
       "      <th></th>\n",
       "      <th></th>\n",
       "      <th></th>\n",
       "      <th></th>\n",
       "      <th></th>\n",
       "    </tr>\n",
       "  </thead>\n",
       "  <tbody>\n",
       "    <tr>\n",
       "      <th>1993-01-29 00:00:00+00:00</th>\n",
       "      <td>43.96875</td>\n",
       "      <td>43.96875</td>\n",
       "      <td>43.75000</td>\n",
       "      <td>24.608625</td>\n",
       "      <td>1003200</td>\n",
       "    </tr>\n",
       "    <tr>\n",
       "      <th>1993-02-01 00:00:00+00:00</th>\n",
       "      <td>43.96875</td>\n",
       "      <td>44.25000</td>\n",
       "      <td>43.96875</td>\n",
       "      <td>24.783638</td>\n",
       "      <td>480500</td>\n",
       "    </tr>\n",
       "    <tr>\n",
       "      <th>1993-02-02 00:00:00+00:00</th>\n",
       "      <td>44.21875</td>\n",
       "      <td>44.37500</td>\n",
       "      <td>44.12500</td>\n",
       "      <td>24.836155</td>\n",
       "      <td>201300</td>\n",
       "    </tr>\n",
       "    <tr>\n",
       "      <th>1993-02-03 00:00:00+00:00</th>\n",
       "      <td>44.40625</td>\n",
       "      <td>44.84375</td>\n",
       "      <td>44.37500</td>\n",
       "      <td>25.098705</td>\n",
       "      <td>529400</td>\n",
       "    </tr>\n",
       "    <tr>\n",
       "      <th>1993-02-04 00:00:00+00:00</th>\n",
       "      <td>44.96875</td>\n",
       "      <td>45.09375</td>\n",
       "      <td>44.46875</td>\n",
       "      <td>25.203712</td>\n",
       "      <td>531500</td>\n",
       "    </tr>\n",
       "  </tbody>\n",
       "</table>\n",
       "</div>"
      ],
      "text/plain": [
       "Price                          Open      High       Low  Adj Close   Volume\n",
       "Ticker                          SPY       SPY       SPY        SPY      SPY\n",
       "Date                                                                       \n",
       "1993-01-29 00:00:00+00:00  43.96875  43.96875  43.75000  24.608625  1003200\n",
       "1993-02-01 00:00:00+00:00  43.96875  44.25000  43.96875  24.783638   480500\n",
       "1993-02-02 00:00:00+00:00  44.21875  44.37500  44.12500  24.836155   201300\n",
       "1993-02-03 00:00:00+00:00  44.40625  44.84375  44.37500  25.098705   529400\n",
       "1993-02-04 00:00:00+00:00  44.96875  45.09375  44.46875  25.203712   531500"
      ]
     },
     "execution_count": 5,
     "metadata": {},
     "output_type": "execute_result"
    }
   ],
   "source": [
    "data.head()"
   ]
  },
  {
   "cell_type": "code",
   "execution_count": 6,
   "id": "aefc9070-3e55-4c7b-b4b1-25cdb2caaa36",
   "metadata": {},
   "outputs": [],
   "source": [
    "data.reset_index(inplace=True)"
   ]
  },
  {
   "cell_type": "code",
   "execution_count": 7,
   "id": "c981c7f3-c980-4935-bb10-65b780caef26",
   "metadata": {},
   "outputs": [
    {
     "data": {
      "text/html": [
       "<div>\n",
       "<style scoped>\n",
       "    .dataframe tbody tr th:only-of-type {\n",
       "        vertical-align: middle;\n",
       "    }\n",
       "\n",
       "    .dataframe tbody tr th {\n",
       "        vertical-align: top;\n",
       "    }\n",
       "\n",
       "    .dataframe thead tr th {\n",
       "        text-align: left;\n",
       "    }\n",
       "</style>\n",
       "<table border=\"1\" class=\"dataframe\">\n",
       "  <thead>\n",
       "    <tr>\n",
       "      <th>Price</th>\n",
       "      <th>Date</th>\n",
       "      <th>Open</th>\n",
       "      <th>High</th>\n",
       "      <th>Low</th>\n",
       "      <th>Adj Close</th>\n",
       "      <th>Volume</th>\n",
       "    </tr>\n",
       "    <tr>\n",
       "      <th>Ticker</th>\n",
       "      <th></th>\n",
       "      <th>SPY</th>\n",
       "      <th>SPY</th>\n",
       "      <th>SPY</th>\n",
       "      <th>SPY</th>\n",
       "      <th>SPY</th>\n",
       "    </tr>\n",
       "  </thead>\n",
       "  <tbody>\n",
       "    <tr>\n",
       "      <th>0</th>\n",
       "      <td>1993-01-29 00:00:00+00:00</td>\n",
       "      <td>43.96875</td>\n",
       "      <td>43.96875</td>\n",
       "      <td>43.75000</td>\n",
       "      <td>24.608625</td>\n",
       "      <td>1003200</td>\n",
       "    </tr>\n",
       "    <tr>\n",
       "      <th>1</th>\n",
       "      <td>1993-02-01 00:00:00+00:00</td>\n",
       "      <td>43.96875</td>\n",
       "      <td>44.25000</td>\n",
       "      <td>43.96875</td>\n",
       "      <td>24.783638</td>\n",
       "      <td>480500</td>\n",
       "    </tr>\n",
       "    <tr>\n",
       "      <th>2</th>\n",
       "      <td>1993-02-02 00:00:00+00:00</td>\n",
       "      <td>44.21875</td>\n",
       "      <td>44.37500</td>\n",
       "      <td>44.12500</td>\n",
       "      <td>24.836155</td>\n",
       "      <td>201300</td>\n",
       "    </tr>\n",
       "    <tr>\n",
       "      <th>3</th>\n",
       "      <td>1993-02-03 00:00:00+00:00</td>\n",
       "      <td>44.40625</td>\n",
       "      <td>44.84375</td>\n",
       "      <td>44.37500</td>\n",
       "      <td>25.098705</td>\n",
       "      <td>529400</td>\n",
       "    </tr>\n",
       "    <tr>\n",
       "      <th>4</th>\n",
       "      <td>1993-02-04 00:00:00+00:00</td>\n",
       "      <td>44.96875</td>\n",
       "      <td>45.09375</td>\n",
       "      <td>44.46875</td>\n",
       "      <td>25.203712</td>\n",
       "      <td>531500</td>\n",
       "    </tr>\n",
       "  </tbody>\n",
       "</table>\n",
       "</div>"
      ],
      "text/plain": [
       "Price                       Date      Open      High       Low  Adj Close  \\\n",
       "Ticker                                 SPY       SPY       SPY        SPY   \n",
       "0      1993-01-29 00:00:00+00:00  43.96875  43.96875  43.75000  24.608625   \n",
       "1      1993-02-01 00:00:00+00:00  43.96875  44.25000  43.96875  24.783638   \n",
       "2      1993-02-02 00:00:00+00:00  44.21875  44.37500  44.12500  24.836155   \n",
       "3      1993-02-03 00:00:00+00:00  44.40625  44.84375  44.37500  25.098705   \n",
       "4      1993-02-04 00:00:00+00:00  44.96875  45.09375  44.46875  25.203712   \n",
       "\n",
       "Price    Volume  \n",
       "Ticker      SPY  \n",
       "0       1003200  \n",
       "1        480500  \n",
       "2        201300  \n",
       "3        529400  \n",
       "4        531500  "
      ]
     },
     "execution_count": 7,
     "metadata": {},
     "output_type": "execute_result"
    }
   ],
   "source": [
    "data.head()"
   ]
  },
  {
   "cell_type": "code",
   "execution_count": 8,
   "id": "92b80946-cec6-4665-8f52-fb7574d3049c",
   "metadata": {},
   "outputs": [],
   "source": [
    "parsed_data = bt.feeds.PandasData(\n",
    "    dataname=data,\n",
    "    datetime='Date',  # Name of the Date column\n",
    "    open='Open',      # Name of the Open column\n",
    "    high='High',      # Name of the High column\n",
    "    low='Low',        # Name of the Low column\n",
    "    close='Adj Close',# Name of the Adjusted Close column\n",
    "    volume='Volume',  # Name of the Volume column\n",
    "    openinterest=-1)"
   ]
  },
  {
   "cell_type": "code",
   "execution_count": 9,
   "id": "3eacc901-cf7e-415c-92b0-9e323f498f07",
   "metadata": {
    "jupyter": {
     "source_hidden": true
    }
   },
   "outputs": [],
   "source": [
    "cerebro = bt.Cerebro()\n",
    "cerebro.broker.set_cash(10000)"
   ]
  },
  {
   "cell_type": "code",
   "execution_count": 10,
   "id": "57c41fe6-7817-482f-b59d-45b85e240b24",
   "metadata": {},
   "outputs": [
    {
     "data": {
      "text/plain": [
       "<backtrader.feeds.pandafeed.PandasData at 0x1084db620>"
      ]
     },
     "execution_count": 10,
     "metadata": {},
     "output_type": "execute_result"
    }
   ],
   "source": [
    "cerebro.adddata(parsed_data)\n"
   ]
  },
  {
   "cell_type": "code",
   "execution_count": 11,
   "id": "be7776f2-58f9-4131-8144-c4cf463a374f",
   "metadata": {},
   "outputs": [
    {
     "name": "stderr",
     "output_type": "stream",
     "text": [
      "/Users/tireniadekoya/.local/share/virtualenvs/ai-trader-RA5L2dJ3/lib/python3.13/site-packages/backtrader/cerebro.py:670: SyntaxWarning: invalid escape sequence '\\*'\n",
      "  '''Adds a callback to get messages which would be handled by the\n",
      "/Users/tireniadekoya/.local/share/virtualenvs/ai-trader-RA5L2dJ3/lib/python3.13/site-packages/backtrader/cerebro.py:712: SyntaxWarning: invalid escape sequence '\\*'\n",
      "  '''Adds a callback to get messages which would be handled by the\n"
     ]
    },
    {
     "ename": "AttributeError",
     "evalue": "'tuple' object has no attribute 'lower'",
     "output_type": "error",
     "traceback": [
      "\u001b[0;31m---------------------------------------------------------------------------\u001b[0m",
      "\u001b[0;31mAttributeError\u001b[0m                            Traceback (most recent call last)",
      "Cell \u001b[0;32mIn[11], line 1\u001b[0m\n\u001b[0;32m----> 1\u001b[0m \u001b[43mcerebro\u001b[49m\u001b[38;5;241;43m.\u001b[39;49m\u001b[43mrun\u001b[49m\u001b[43m(\u001b[49m\u001b[43m)\u001b[49m\n",
      "File \u001b[0;32m~/.local/share/virtualenvs/ai-trader-RA5L2dJ3/lib/python3.13/site-packages/backtrader/cerebro.py:1132\u001b[0m, in \u001b[0;36mCerebro.run\u001b[0;34m(self, **kwargs)\u001b[0m\n\u001b[1;32m   1128\u001b[0m \u001b[38;5;28;01mif\u001b[39;00m \u001b[38;5;129;01mnot\u001b[39;00m \u001b[38;5;28mself\u001b[39m\u001b[38;5;241m.\u001b[39m_dooptimize \u001b[38;5;129;01mor\u001b[39;00m \u001b[38;5;28mself\u001b[39m\u001b[38;5;241m.\u001b[39mp\u001b[38;5;241m.\u001b[39mmaxcpus \u001b[38;5;241m==\u001b[39m \u001b[38;5;241m1\u001b[39m:\n\u001b[1;32m   1129\u001b[0m     \u001b[38;5;66;03m# If no optimmization is wished ... or 1 core is to be used\u001b[39;00m\n\u001b[1;32m   1130\u001b[0m     \u001b[38;5;66;03m# let's skip process \"spawning\"\u001b[39;00m\n\u001b[1;32m   1131\u001b[0m     \u001b[38;5;28;01mfor\u001b[39;00m iterstrat \u001b[38;5;129;01min\u001b[39;00m iterstrats:\n\u001b[0;32m-> 1132\u001b[0m         runstrat \u001b[38;5;241m=\u001b[39m \u001b[38;5;28;43mself\u001b[39;49m\u001b[38;5;241;43m.\u001b[39;49m\u001b[43mrunstrategies\u001b[49m\u001b[43m(\u001b[49m\u001b[43miterstrat\u001b[49m\u001b[43m)\u001b[49m\n\u001b[1;32m   1133\u001b[0m         \u001b[38;5;28mself\u001b[39m\u001b[38;5;241m.\u001b[39mrunstrats\u001b[38;5;241m.\u001b[39mappend(runstrat)\n\u001b[1;32m   1134\u001b[0m         \u001b[38;5;28;01mif\u001b[39;00m \u001b[38;5;28mself\u001b[39m\u001b[38;5;241m.\u001b[39m_dooptimize:\n",
      "File \u001b[0;32m~/.local/share/virtualenvs/ai-trader-RA5L2dJ3/lib/python3.13/site-packages/backtrader/cerebro.py:1215\u001b[0m, in \u001b[0;36mCerebro.runstrategies\u001b[0;34m(self, iterstrat, predata)\u001b[0m\n\u001b[1;32m   1213\u001b[0m \u001b[38;5;28;01mif\u001b[39;00m \u001b[38;5;28mself\u001b[39m\u001b[38;5;241m.\u001b[39m_exactbars \u001b[38;5;241m<\u001b[39m \u001b[38;5;241m1\u001b[39m:  \u001b[38;5;66;03m# datas can be full length\u001b[39;00m\n\u001b[1;32m   1214\u001b[0m     data\u001b[38;5;241m.\u001b[39mextend(size\u001b[38;5;241m=\u001b[39m\u001b[38;5;28mself\u001b[39m\u001b[38;5;241m.\u001b[39mparams\u001b[38;5;241m.\u001b[39mlookahead)\n\u001b[0;32m-> 1215\u001b[0m \u001b[43mdata\u001b[49m\u001b[38;5;241;43m.\u001b[39;49m\u001b[43m_start\u001b[49m\u001b[43m(\u001b[49m\u001b[43m)\u001b[49m\n\u001b[1;32m   1216\u001b[0m \u001b[38;5;28;01mif\u001b[39;00m \u001b[38;5;28mself\u001b[39m\u001b[38;5;241m.\u001b[39m_dopreload:\n\u001b[1;32m   1217\u001b[0m     data\u001b[38;5;241m.\u001b[39mpreload()\n",
      "File \u001b[0;32m~/.local/share/virtualenvs/ai-trader-RA5L2dJ3/lib/python3.13/site-packages/backtrader/feed.py:203\u001b[0m, in \u001b[0;36mAbstractDataBase._start\u001b[0;34m(self)\u001b[0m\n\u001b[1;32m    202\u001b[0m \u001b[38;5;28;01mdef\u001b[39;00m \u001b[38;5;21m_start\u001b[39m(\u001b[38;5;28mself\u001b[39m):\n\u001b[0;32m--> 203\u001b[0m     \u001b[38;5;28;43mself\u001b[39;49m\u001b[38;5;241;43m.\u001b[39;49m\u001b[43mstart\u001b[49m\u001b[43m(\u001b[49m\u001b[43m)\u001b[49m\n\u001b[1;32m    205\u001b[0m     \u001b[38;5;28;01mif\u001b[39;00m \u001b[38;5;129;01mnot\u001b[39;00m \u001b[38;5;28mself\u001b[39m\u001b[38;5;241m.\u001b[39m_started:\n\u001b[1;32m    206\u001b[0m         \u001b[38;5;28mself\u001b[39m\u001b[38;5;241m.\u001b[39m_start_finish()\n",
      "File \u001b[0;32m~/.local/share/virtualenvs/ai-trader-RA5L2dJ3/lib/python3.13/site-packages/backtrader/feeds/pandafeed.py:212\u001b[0m, in \u001b[0;36mPandasData.start\u001b[0;34m(self)\u001b[0m\n\u001b[1;32m    210\u001b[0m \u001b[38;5;66;03m# Transform names (valid for .ix) into indices (good for .iloc)\u001b[39;00m\n\u001b[1;32m    211\u001b[0m \u001b[38;5;28;01mif\u001b[39;00m \u001b[38;5;28mself\u001b[39m\u001b[38;5;241m.\u001b[39mp\u001b[38;5;241m.\u001b[39mnocase:\n\u001b[0;32m--> 212\u001b[0m     colnames \u001b[38;5;241m=\u001b[39m [\u001b[43mx\u001b[49m\u001b[38;5;241;43m.\u001b[39;49m\u001b[43mlower\u001b[49m() \u001b[38;5;28;01mfor\u001b[39;00m x \u001b[38;5;129;01min\u001b[39;00m \u001b[38;5;28mself\u001b[39m\u001b[38;5;241m.\u001b[39mp\u001b[38;5;241m.\u001b[39mdataname\u001b[38;5;241m.\u001b[39mcolumns\u001b[38;5;241m.\u001b[39mvalues]\n\u001b[1;32m    213\u001b[0m \u001b[38;5;28;01melse\u001b[39;00m:\n\u001b[1;32m    214\u001b[0m     colnames \u001b[38;5;241m=\u001b[39m [x \u001b[38;5;28;01mfor\u001b[39;00m x \u001b[38;5;129;01min\u001b[39;00m \u001b[38;5;28mself\u001b[39m\u001b[38;5;241m.\u001b[39mp\u001b[38;5;241m.\u001b[39mdataname\u001b[38;5;241m.\u001b[39mcolumns\u001b[38;5;241m.\u001b[39mvalues]\n",
      "\u001b[0;31mAttributeError\u001b[0m: 'tuple' object has no attribute 'lower'"
     ]
    }
   ],
   "source": [
    "cerebro.run()\n"
   ]
  },
  {
   "cell_type": "code",
   "execution_count": null,
   "id": "d8ec4f8b-1979-4430-9dfb-5493d27d0df2",
   "metadata": {},
   "outputs": [],
   "source": []
  }
 ],
 "metadata": {
  "kernelspec": {
   "display_name": "Python (env-ai-trade)",
   "language": "python",
   "name": "env-ai-trade"
  },
  "language_info": {
   "codemirror_mode": {
    "name": "ipython",
    "version": 3
   },
   "file_extension": ".py",
   "mimetype": "text/x-python",
   "name": "python",
   "nbconvert_exporter": "python",
   "pygments_lexer": "ipython3",
   "version": "3.13.0"
  }
 },
 "nbformat": 4,
 "nbformat_minor": 5
}
